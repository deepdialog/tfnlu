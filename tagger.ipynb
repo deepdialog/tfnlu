{
 "cells": [
  {
   "cell_type": "code",
   "execution_count": 1,
   "metadata": {},
   "outputs": [],
   "source": [
    "import pickle\n",
    "from tfnlu.tagger import Tagger"
   ]
  },
  {
   "cell_type": "code",
   "execution_count": 2,
   "metadata": {},
   "outputs": [],
   "source": [
    "tag = Tagger(\n",
    "    encoder_path='../bert-embs/output/bert_wwm_zh_seq/')"
   ]
  },
  {
   "cell_type": "code",
   "execution_count": 3,
   "metadata": {},
   "outputs": [],
   "source": [
    "x = ['我要去北京', '我要去巴黎', '今天天气不错', '明天天气不知道怎么样']\n",
    "y = [['O', 'O', 'O', 'Bcity', 'Icity'], ['O', 'O', 'O', 'Bcity', 'Icity'],\n",
    "     ['Bdate', 'Iadate', 'O', 'O', 'O', 'O'],\n",
    "     ['Bdate', 'Idate', 'O', 'O', 'O', 'O', 'O', 'O', 'O', 'O']]"
   ]
  },
  {
   "cell_type": "code",
   "execution_count": 4,
   "metadata": {
    "scrolled": false
   },
   "outputs": [
    {
     "name": "stdout",
     "output_type": "stream",
     "text": [
      "tags count: 7\n",
      "build model\n",
      "build optimizers\n",
      "start training\n",
      "0 loss: 11.3895\n",
      "1 loss: 16.3525\n",
      "2 loss: 8.6435\n",
      "training done\n"
     ]
    }
   ],
   "source": [
    "tag.fit(x, y)"
   ]
  },
  {
   "cell_type": "code",
   "execution_count": 5,
   "metadata": {},
   "outputs": [
    {
     "data": {
      "text/plain": [
       "<tf.Tensor: shape=(4, 10), dtype=int32, numpy=\n",
       "array([[1, 1, 1, 2, 3, 3, 2, 3, 3, 3],\n",
       "       [1, 1, 1, 2, 3, 3, 2, 3, 3, 3],\n",
       "       [4, 1, 1, 1, 1, 1, 1, 1, 1, 1],\n",
       "       [4, 1, 1, 1, 1, 1, 1, 1, 1, 1]], dtype=int32)>"
      ]
     },
     "execution_count": 5,
     "metadata": {},
     "output_type": "execute_result"
    }
   ],
   "source": [
    "tag.predict(x)"
   ]
  },
  {
   "cell_type": "code",
   "execution_count": 6,
   "metadata": {},
   "outputs": [
    {
     "name": "stdout",
     "output_type": "stream",
     "text": [
      "WARNING:tensorflow:From /home/qhduan/.local/lib/python3.6/site-packages/tensorflow_core/python/ops/resource_variable_ops.py:1786: calling BaseResourceVariable.__init__ (from tensorflow.python.ops.resource_variable_ops) with constraint is deprecated and will be removed in a future version.\n",
      "Instructions for updating:\n",
      "If using Keras pass *_constraint arguments to layers.\n",
      "INFO:tensorflow:Assets written to: /tmp/256091f8-0f8d-4b00-bc27-85a81b6574c8/assets\n"
     ]
    }
   ],
   "source": [
    "with open('/tmp/model_s', 'wb') as fp:\n",
    "    pickle.dump(tag, fp)"
   ]
  },
  {
   "cell_type": "code",
   "execution_count": 7,
   "metadata": {},
   "outputs": [],
   "source": [
    "with open('/tmp/model_s', 'rb') as fp:\n",
    "    tag2 = pickle.load(fp)"
   ]
  },
  {
   "cell_type": "code",
   "execution_count": 8,
   "metadata": {},
   "outputs": [
    {
     "data": {
      "text/plain": [
       "<tf.Tensor: shape=(4, 10), dtype=int32, numpy=\n",
       "array([[1, 1, 1, 2, 3, 3, 2, 3, 3, 3],\n",
       "       [1, 1, 1, 2, 3, 3, 2, 3, 3, 3],\n",
       "       [4, 1, 1, 1, 1, 1, 1, 1, 1, 1],\n",
       "       [4, 1, 1, 1, 1, 1, 1, 1, 1, 1]], dtype=int32)>"
      ]
     },
     "execution_count": 8,
     "metadata": {},
     "output_type": "execute_result"
    }
   ],
   "source": [
    "tag2.predict(x)"
   ]
  },
  {
   "cell_type": "code",
   "execution_count": 9,
   "metadata": {},
   "outputs": [],
   "source": [
    "with open('/tmp/model_s2', 'wb') as fp:\n",
    "    pickle.dump(tag2, fp)"
   ]
  },
  {
   "cell_type": "code",
   "execution_count": 10,
   "metadata": {},
   "outputs": [],
   "source": [
    "with open('/tmp/model_s2', 'rb') as fp:\n",
    "    tag3 = pickle.load(fp)"
   ]
  },
  {
   "cell_type": "code",
   "execution_count": 11,
   "metadata": {},
   "outputs": [
    {
     "data": {
      "text/plain": [
       "<tf.Tensor: shape=(4, 10), dtype=int32, numpy=\n",
       "array([[1, 1, 1, 2, 3, 3, 2, 3, 3, 3],\n",
       "       [1, 1, 1, 2, 3, 3, 2, 3, 3, 3],\n",
       "       [4, 1, 1, 1, 1, 1, 1, 1, 1, 1],\n",
       "       [4, 1, 1, 1, 1, 1, 1, 1, 1, 1]], dtype=int32)>"
      ]
     },
     "execution_count": 11,
     "metadata": {},
     "output_type": "execute_result"
    }
   ],
   "source": [
    "tag3.predict(x)"
   ]
  },
  {
   "cell_type": "code",
   "execution_count": null,
   "metadata": {},
   "outputs": [],
   "source": []
  }
 ],
 "metadata": {
  "kernelspec": {
   "display_name": "Python 3",
   "language": "python",
   "name": "python3"
  },
  "language_info": {
   "codemirror_mode": {
    "name": "ipython",
    "version": 3
   },
   "file_extension": ".py",
   "mimetype": "text/x-python",
   "name": "python",
   "nbconvert_exporter": "python",
   "pygments_lexer": "ipython3",
   "version": "3.6.9"
  }
 },
 "nbformat": 4,
 "nbformat_minor": 4
}
